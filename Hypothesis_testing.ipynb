{
  "nbformat": 4,
  "nbformat_minor": 0,
  "metadata": {
    "colab": {
      "provenance": []
    },
    "kernelspec": {
      "name": "python3",
      "display_name": "Python 3"
    },
    "language_info": {
      "name": "python"
    }
  },
  "cells": [
    {
      "cell_type": "markdown",
      "source": [
        "**HYPOTHESIS TESTING**\n",
        "\n",
        "Bombay hospitality Ltd. operates a franchise model for producing exotic Norwegian dinners throughout New England. The operating cost for a franchise in a week (W) is given by the equation W = $1,000 + $5X, where X represents the number of units produced in a week. Recent feedback from restaurant owners suggests that this cost model may no longer be accurate, as their observed weekly operating costs are higher.\n",
        "\n",
        "**Objective:**\n",
        "To investigate the restaurant owners' claim about the increase in weekly operating costs using hypothesis testing.\n",
        "\n",
        "**Data Provided:**\n",
        "•\tThe theoretical weekly operating cost model: W = $1,000 + $5X\n",
        "•\tSample of 25 restaurants with a mean weekly cost of Rs. 3,050\n",
        "•\tNumber of units produced in a week (X) follows a normal distribution with a mean (μ) of 600 units and a standard deviation (σ) of 25 units\n"
      ],
      "metadata": {
        "id": "ekbNySWcbyKh"
      }
    },
    {
      "cell_type": "markdown",
      "source": [
        "**State the Hypotheses statement:**\n",
        "For the hypothesis statement in the context of constructing a confidence interval for the mean durability of print-heads, we could frame it as a two-tailed test with the following hypotheses:\n",
        "\n",
        "### **Null Hypothesis (\\( H_0 \\))**:\n",
        "The mean durability of print-heads is equal to a specified value (mu0). Typically, this is the current or expected population mean.\n",
        "\n",
        "H0 : mu = mu0\n",
        "\n",
        "### **Alternative Hypothesis (H1)**:\n",
        "The mean durability of print-heads is not equal to the specified value(mu0).\n",
        "\n",
        "H1: mu != mu0\n",
        "\n",
        "This represents a **two-tailed test**, where we are checking if the true mean durability is different from a given reference value.\n",
        "\n",
        "### Example Context:\n",
        "If, for example, the manufacturer believes that the mean durability should be (mu0 = 1.3) million characters, the hypotheses would be:\n",
        "\n",
        "H0: mu = 1.3 million characters (The mean durability is 1.3 million characters).\n",
        "\n",
        "H1: mu != 1.3 million characters (The mean durability is not 1.3 million characters).\n",
        "\n",
        "This would guide further testing, where we check if the sample data provides enough evidence to reject the null hypothesis."
      ],
      "metadata": {
        "id": "1GuX9Oq6chLE"
      }
    },
    {
      "cell_type": "code",
      "source": [
        "import pandas as pd\n",
        "import numpy as np\n",
        "from scipy import stats\n",
        "\n",
        "x_bar = 3050  # Sample mean weekly cost\n",
        "mu = 1000 + 5 * 600  # Theoretical mean weekly cost\n",
        "sigma = 5 * 25  # Population standard deviation\n",
        "n = 25  # Sample size\n",
        "\n",
        "# Formula for test statistic t\n",
        "t = (x_bar - mu) / (sigma / np.sqrt(n))\n",
        "t\n"
      ],
      "metadata": {
        "colab": {
          "base_uri": "https://localhost:8080/"
        },
        "id": "1Tl_YSOzVSyd",
        "outputId": "2f24730a-b12d-433c-8c35-27c5e1d0b544"
      },
      "execution_count": null,
      "outputs": [
        {
          "output_type": "execute_result",
          "data": {
            "text/plain": [
              "-38.0"
            ]
          },
          "metadata": {},
          "execution_count": 7
        }
      ]
    },
    {
      "cell_type": "code",
      "source": [
        "alpha = 0.05\n",
        "critical_value = 1.96  # For a two-tailed test at alpha = 0.05\n",
        "\n",
        "print(\"Critical value (Z):\", critical_value)"
      ],
      "metadata": {
        "colab": {
          "base_uri": "https://localhost:8080/"
        },
        "id": "NHRdbN3t2rRA",
        "outputId": "b1bf642e-f4b3-4210-b7b7-bc42d4aba5ed"
      },
      "execution_count": null,
      "outputs": [
        {
          "output_type": "stream",
          "name": "stdout",
          "text": [
            "Critical value (Z): 1.96\n"
          ]
        }
      ]
    },
    {
      "cell_type": "markdown",
      "source": [
        "**Make a Decision:**\n",
        "\n",
        "Based on the decision in step 4, conclude whether there is strong evidence to support the restaurant owners' claim that the weekly operating costs are higher than the model suggests."
      ],
      "metadata": {
        "id": "swTljW1eOpGO"
      }
    },
    {
      "cell_type": "code",
      "source": [
        "if abs(t) > critical_value:\n",
        "  print(\"Reject the null hypothesis.\")\n",
        "else:\n",
        "  print(\"Fail to reject the null hypothesis.\")"
      ],
      "metadata": {
        "colab": {
          "base_uri": "https://localhost:8080/"
        },
        "id": "x1lbGqoW5Nc0",
        "outputId": "00736608-6044-4ec1-c552-4b645d7ee018"
      },
      "execution_count": null,
      "outputs": [
        {
          "output_type": "stream",
          "name": "stdout",
          "text": [
            "Reject the null hypothesis.\n"
          ]
        }
      ]
    },
    {
      "cell_type": "markdown",
      "source": [
        "In this test the 't = -38' value is much lesser than the critical value z= 1.96.\n",
        "So that the restaurant owners claim that operating costs are higher than the model suggests is not supported by the data.\n",
        "\n",
        "\n",
        "\n",
        "\n",
        "\n"
      ],
      "metadata": {
        "id": "KTjGHEhu4d7e"
      }
    },
    {
      "cell_type": "code",
      "source": [],
      "metadata": {
        "id": "JT7oCHdL5SGm"
      },
      "execution_count": null,
      "outputs": []
    }
  ]
}