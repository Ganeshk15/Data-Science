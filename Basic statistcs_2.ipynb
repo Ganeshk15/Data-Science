{
  "nbformat": 4,
  "nbformat_minor": 0,
  "metadata": {
    "colab": {
      "provenance": []
    },
    "kernelspec": {
      "name": "python3",
      "display_name": "Python 3"
    },
    "language_info": {
      "name": "python"
    }
  },
  "cells": [
    {
      "cell_type": "markdown",
      "source": [
        "# Estimation And Confidence Intervals"
      ],
      "metadata": {
        "id": "dvoYZEhwYmrk"
      }
    },
    {
      "cell_type": "markdown",
      "source": [
        "A manufacturer of print-heads for personal computers is interested in estimating the mean durability of their print-heads in terms of the number of characters printed before failure. To assess this, the manufacturer conducts a study on a small sample of print-heads due to the destructive nature of the testing process.\n",
        "Data\n",
        "A total of 15 print-heads were randomly selected and tested until failure. The durability of each print-head (in millions of characters) was recorded as follows:\n",
        "1.13, 1.55, 1.43, 0.92, 1.25, 1.36, 1.32, 0.85, 1.07, 1.48, 1.20, 1.33, 1.18, 1.22, 1.29\n",
        "\n",
        "a. Build 99% Confidence Interval Using Sample Standard Deviation\n",
        "Assuming the sample is representative of the population, construct a 99% confidence interval for the mean number of characters printed before the print-head fails using the sample standard deviation. Explain the steps you take and the rationale behind using the t-distribution for this task.\n",
        "\n"
      ],
      "metadata": {
        "id": "D4q8Wr9fY86R"
      }
    },
    {
      "cell_type": "code",
      "source": [
        "import numpy as np\n",
        "import pandas as pd\n",
        "from scipy import stats\n",
        "\n",
        "data =[1.13, 1.55, 1.43, 0.92, 1.25, 1.36, 1.32, 0.85, 1.07, 1.48, 1.20, 1.33, 1.18, 1.22, 1.29]\n",
        "\n",
        "sample_mean = np.mean(data)\n",
        "sample_std = np.std(data, ddof=1)\n",
        "\n",
        "print(\"The mean of given data is : \", np.mean(data))\n",
        "print(\"The std of given data is : \", np.std(data))\n",
        "\n",
        "n=len(data)\n",
        "\n",
        "confidence_level = 0.99\n",
        "df = n-1\n",
        "\n",
        "t_critical = stats.t.ppf((1+confidence_level)/2, df)\n",
        "\n",
        "margin_of_error = t_critical * (np.std(data) / np.sqrt(n))\n",
        "\n",
        "lower_bound = sample_mean - margin_of_error              # Calculate the confidence interval\n",
        "upper_bound = sample_mean + margin_of_error\n",
        "\n",
        "print(f\"99% Confidence Interval: ({lower_bound:.4f}, {upper_bound:.4f})\")\n",
        "\n",
        "# Steps\n",
        "# Calculate Sample mean and sample standard deviation.\n",
        "# the sample size is small (n<30) and the population standard deviation is unknown, we use the t-distribution.\n",
        "#The formula for a confidence interval using the t-distribution\n",
        "#        CI= sample_mean plus(or)minus(t_critical value of ci and dof * std/sqrt(sample_size))\n",
        "#  dof = degree of freedom\n",
        "#  CI = Confidance interval"
      ],
      "metadata": {
        "colab": {
          "base_uri": "https://localhost:8080/"
        },
        "id": "NvMRs3r9dyag",
        "outputId": "63304365-1439-4ddb-b8d7-e38b4403a89d"
      },
      "execution_count": 13,
      "outputs": [
        {
          "output_type": "stream",
          "name": "stdout",
          "text": [
            "The mean of given data is :  1.2386666666666666\n",
            "The std of given data is :  0.18661427836285438\n",
            "99% Confidence Interval: (1.0952, 1.3821)\n"
          ]
        }
      ]
    },
    {
      "cell_type": "markdown",
      "source": [
        "b. Build 99% Confidence Interval Using Known Population Standard Deviation\n",
        "If it were known that the population standard deviation is 0.2 million characters, construct a 99% confidence interval for the mean number of characters printed before failure."
      ],
      "metadata": {
        "id": "uYAY3vPOtkEb"
      }
    },
    {
      "cell_type": "code",
      "source": [
        "population_std = 0.2\n",
        "confidence_level = 0.99\n",
        "z_critical = stats.norm.ppf((1 + confidence_level) / 2)\n",
        "\n",
        "margin_of_error = z_critical * (population_std / np.sqrt(n))\n",
        "\n",
        "lower_bound = sample_mean - margin_of_error\n",
        "upper_bound = sample_mean + margin_of_error\n",
        "\n",
        "print(f\"99% Confidence Interval (with known population std): ({lower_bound:.4f}, {upper_bound:.4f})\")"
      ],
      "metadata": {
        "colab": {
          "base_uri": "https://localhost:8080/"
        },
        "id": "4ONNlqGPEcuh",
        "outputId": "16474980-65c6-4732-8b44-fc7bf0541261"
      },
      "execution_count": 16,
      "outputs": [
        {
          "output_type": "stream",
          "name": "stdout",
          "text": [
            "99% Confidence Interval (with known population std): (1.1057, 1.3717)\n"
          ]
        }
      ]
    }
  ]
}