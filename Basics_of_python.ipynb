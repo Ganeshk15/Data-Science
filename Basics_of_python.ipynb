{
  "nbformat": 4,
  "nbformat_minor": 0,
  "metadata": {
    "colab": {
      "provenance": []
    },
    "kernelspec": {
      "name": "python3",
      "display_name": "Python 3"
    },
    "language_info": {
      "name": "python"
    }
  },
  "cells": [
    {
      "cell_type": "markdown",
      "source": [
        "Write a Python program that checks whether a given number is prime or not. A prime number is a natural number greater than 1 that has no positive divisors other than 1 and itself."
      ],
      "metadata": {
        "id": "3-YX0R4jKpra"
      }
    },
    {
      "cell_type": "code",
      "execution_count": null,
      "metadata": {
        "colab": {
          "base_uri": "https://localhost:8080/"
        },
        "collapsed": true,
        "id": "1Kv4cCsoKUIv",
        "outputId": "9ebb57b2-9062-4c4d-a23c-199126da22ba"
      },
      "outputs": [
        {
          "output_type": "stream",
          "name": "stdout",
          "text": [
            "Enter a number: 8\n",
            "8 is not a prime number.\n"
          ]
        }
      ],
      "source": [
        "def is_prime(number):\n",
        "    if number <= 1:\n",
        "        return False\n",
        "    for i in range(2, int(number ** 0.5) + 1):\n",
        "        if number % i == 0:\n",
        "            return False\n",
        "    return True\n",
        "num = int(input(\"Enter a number: \"))\n",
        "\n",
        "if is_prime(num):\n",
        "    print(f\"{num} is a prime number.\")\n",
        "else:\n",
        "    print(f\"{num} is not a prime number.\")\n"
      ]
    },
    {
      "cell_type": "markdown",
      "source": [
        "Develop a Python program that generates two random numbers and asks the user to enter the product of these numbers. The program should then check if the user's answer is correct and display an appropriate message."
      ],
      "metadata": {
        "id": "Q7frdXmBUYhg"
      }
    },
    {
      "cell_type": "code",
      "source": [
        "num1 = random.randint(1, 10)\n",
        "num2 = random.randint(1, 10)\n",
        "\n",
        "# Ask the user to enter the product\n",
        "print(f\"What is the product of {num1} and {num2}?\")\n",
        "user_answer = int(input(\"Enter your answer: \"))\n",
        "\n",
        "# Calculate the actual product\n",
        "actual_product = num1 * num2\n",
        "\n",
        "# Check if the user's answer is correct\n",
        "if user_answer == actual_product:\n",
        "    print(\"The product is Correct!\")\n",
        "else:\n",
        "    print(f\"Incorrect. The correct answer is {actual_product}\")\n"
      ],
      "metadata": {
        "colab": {
          "base_uri": "https://localhost:8080/"
        },
        "id": "11-0iJn6SeR6",
        "outputId": "9fbb1937-8b92-4470-8cdf-02a93ed4b52f"
      },
      "execution_count": null,
      "outputs": [
        {
          "output_type": "stream",
          "name": "stdout",
          "text": [
            "What is the product of 6 and 3?\n",
            "Enter your answer: 18\n",
            "The product is Correct!\n"
          ]
        }
      ]
    },
    {
      "cell_type": "markdown",
      "source": [
        "Create a Python script that prints the squares of all even or odd numbers within the range of 100 to 200. Choose either even or odd numbers and document your choice in the code.\n"
      ],
      "metadata": {
        "id": "-xchE_gnUkcn"
      }
    },
    {
      "cell_type": "code",
      "source": [
        " # Check if the number is Even\n",
        "for num in range(100, 201):\n",
        "  if num % 2 == 0:\n",
        "        print(f\"The square of a number is {num} is {num ** 2}\")"
      ],
      "metadata": {
        "id": "USHQQiy9SeH7",
        "colab": {
          "base_uri": "https://localhost:8080/"
        },
        "collapsed": true,
        "outputId": "deb1904b-2aea-411c-9c75-aa9d5e25b071"
      },
      "execution_count": 21,
      "outputs": [
        {
          "output_type": "stream",
          "name": "stdout",
          "text": [
            "The square of a number is 100 is 10000\n",
            "The square of a number is 102 is 10404\n",
            "The square of a number is 104 is 10816\n",
            "The square of a number is 106 is 11236\n",
            "The square of a number is 108 is 11664\n",
            "The square of a number is 110 is 12100\n",
            "The square of a number is 112 is 12544\n",
            "The square of a number is 114 is 12996\n",
            "The square of a number is 116 is 13456\n",
            "The square of a number is 118 is 13924\n",
            "The square of a number is 120 is 14400\n",
            "The square of a number is 122 is 14884\n",
            "The square of a number is 124 is 15376\n",
            "The square of a number is 126 is 15876\n",
            "The square of a number is 128 is 16384\n",
            "The square of a number is 130 is 16900\n",
            "The square of a number is 132 is 17424\n",
            "The square of a number is 134 is 17956\n",
            "The square of a number is 136 is 18496\n",
            "The square of a number is 138 is 19044\n",
            "The square of a number is 140 is 19600\n",
            "The square of a number is 142 is 20164\n",
            "The square of a number is 144 is 20736\n",
            "The square of a number is 146 is 21316\n",
            "The square of a number is 148 is 21904\n",
            "The square of a number is 150 is 22500\n",
            "The square of a number is 152 is 23104\n",
            "The square of a number is 154 is 23716\n",
            "The square of a number is 156 is 24336\n",
            "The square of a number is 158 is 24964\n",
            "The square of a number is 160 is 25600\n",
            "The square of a number is 162 is 26244\n",
            "The square of a number is 164 is 26896\n",
            "The square of a number is 166 is 27556\n",
            "The square of a number is 168 is 28224\n",
            "The square of a number is 170 is 28900\n",
            "The square of a number is 172 is 29584\n",
            "The square of a number is 174 is 30276\n",
            "The square of a number is 176 is 30976\n",
            "The square of a number is 178 is 31684\n",
            "The square of a number is 180 is 32400\n",
            "The square of a number is 182 is 33124\n",
            "The square of a number is 184 is 33856\n",
            "The square of a number is 186 is 34596\n",
            "The square of a number is 188 is 35344\n",
            "The square of a number is 190 is 36100\n",
            "The square of a number is 192 is 36864\n",
            "The square of a number is 194 is 37636\n",
            "The square of a number is 196 is 38416\n",
            "The square of a number is 198 is 39204\n",
            "The square of a number is 200 is 40000\n"
          ]
        }
      ]
    },
    {
      "cell_type": "markdown",
      "source": [
        "write a program to count the number of words in a given text."
      ],
      "metadata": {
        "id": "pAznAzrFXJ_s"
      }
    },
    {
      "cell_type": "code",
      "source": [
        "text = input(\"Enter a text: \")\n",
        "words = text.split()\n",
        "word_count = len(words)\n",
        "print(f\"The number of words in the text is: {word_count}\")\n"
      ],
      "metadata": {
        "colab": {
          "base_uri": "https://localhost:8080/"
        },
        "id": "hz2uv4XVXSXZ",
        "outputId": "40aeb055-33b2-4046-f1df-4d6dfc82e361"
      },
      "execution_count": 29,
      "outputs": [
        {
          "output_type": "stream",
          "name": "stdout",
          "text": [
            "Enter a text: what is your name\n",
            "The number of words in the text is: 4\n"
          ]
        }
      ]
    },
    {
      "cell_type": "markdown",
      "source": [
        "Write a Python function called is_palindrome that takes a string as input and returns True if the string is a palindrome, and False otherwise. A palindrome is a word, phrase, number, or other sequence of characters that reads the same forward and backward, ignoring spaces, punctuation, and capitalization."
      ],
      "metadata": {
        "id": "ebkMyh60X1Pj"
      }
    },
    {
      "cell_type": "code",
      "source": [
        "import string\n",
        "\n",
        "def is_palindrome(s):\n",
        "    s = ''.join(char.lower() for char in s if char.isalnum())\n",
        "    return s == s[::-1]\n",
        "input_string = input(\"Enter a string: \")\n",
        "\n",
        "if is_palindrome(input_string):\n",
        "    print(f'\"{input_string}  \" True.')\n",
        "else:\n",
        "    print(f'\"{input_string}  \" False.')\n"
      ],
      "metadata": {
        "colab": {
          "base_uri": "https://localhost:8080/"
        },
        "id": "VftQ_SK4X2lM",
        "outputId": "2fbb40f9-0a5b-4fd4-e45c-a7067d7a8a38"
      },
      "execution_count": 45,
      "outputs": [
        {
          "output_type": "stream",
          "name": "stdout",
          "text": [
            "Enter a string: racecar\n",
            "\"racecar  \" True.\n"
          ]
        }
      ]
    }
  ]
}